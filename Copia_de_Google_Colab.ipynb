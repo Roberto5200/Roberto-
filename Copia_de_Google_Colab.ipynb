{
  "nbformat": 4,
  "nbformat_minor": 0,
  "metadata": {
    "colab": {
      "provenance": [],
      "include_colab_link": true
    },
    "kernelspec": {
      "name": "python3",
      "display_name": "Python 3"
    },
    "language_info": {
      "name": "python"
    }
  },
  "cells": [
    {
      "cell_type": "markdown",
      "metadata": {
        "id": "view-in-github",
        "colab_type": "text"
      },
      "source": [
        "<a href=\"https://colab.research.google.com/github/Roberto5200/Roberto-/blob/main/Copia_de_Google_Colab.ipynb\" target=\"_parent\"><img src=\"https://colab.research.google.com/assets/colab-badge.svg\" alt=\"Open In Colab\"/></a>"
      ]
    },
    {
      "cell_type": "code",
      "execution_count": null,
      "metadata": {
        "id": "ovhYb13cIaqy"
      },
      "outputs": [],
      "source": []
    },
    {
      "cell_type": "markdown",
      "source": [
        "# Hola **mundo**, este es mi *primer cuaderno*"
      ],
      "metadata": {
        "id": "mgWX9i8AUiYE"
      }
    },
    {
      "cell_type": "code",
      "source": [
        "print(\"Hola mundo\")"
      ],
      "metadata": {
        "colab": {
          "base_uri": "https://localhost:8080/"
        },
        "id": "MOKp9Ld7Whk7",
        "outputId": "8650fdd5-4ca9-42cc-c370-8bc58e217333"
      },
      "execution_count": null,
      "outputs": [
        {
          "output_type": "stream",
          "name": "stdout",
          "text": [
            "Hola mundo\n"
          ]
        }
      ]
    },
    {
      "cell_type": "markdown",
      "source": [
        "Inicializar una variable de cadena de caracteres"
      ],
      "metadata": {
        "id": "gaNgtWQpXezK"
      }
    },
    {
      "cell_type": "code",
      "source": [
        "saludo = \"Chao mundo\"\n",
        "print(saludo)"
      ],
      "metadata": {
        "colab": {
          "base_uri": "https://localhost:8080/"
        },
        "id": "YsHN1Qy5YZSV",
        "outputId": "5a527793-7b6c-49cd-db5f-823f9d176efc"
      },
      "execution_count": null,
      "outputs": [
        {
          "output_type": "stream",
          "name": "stdout",
          "text": [
            "Chao mundo\n"
          ]
        }
      ]
    },
    {
      "cell_type": "markdown",
      "source": [
        "Inicializar un variable numérica"
      ],
      "metadata": {
        "id": "3uz1rVERYmRi"
      }
    },
    {
      "cell_type": "code",
      "source": [
        "x = 7\n",
        "print(x)"
      ],
      "metadata": {
        "colab": {
          "base_uri": "https://localhost:8080/"
        },
        "id": "h0VQc3pMYuEV",
        "outputId": "14a91f09-2182-4012-d27b-d8769178859d"
      },
      "execution_count": null,
      "outputs": [
        {
          "output_type": "stream",
          "name": "stdout",
          "text": [
            "7\n"
          ]
        }
      ]
    },
    {
      "cell_type": "markdown",
      "source": [
        "Operacion de suma entre variables numéricas"
      ],
      "metadata": {
        "id": "Mx9-6n7iZQZY"
      }
    },
    {
      "cell_type": "code",
      "source": [
        "a = 5\n",
        "b = 6\n",
        "print( a + b )"
      ],
      "metadata": {
        "colab": {
          "base_uri": "https://localhost:8080/"
        },
        "id": "BPK4M72EZVZP",
        "outputId": "ebb6a047-b3dd-45a9-ab76-e1ffda49c756"
      },
      "execution_count": null,
      "outputs": [
        {
          "output_type": "stream",
          "name": "stdout",
          "text": [
            "11\n"
          ]
        }
      ]
    },
    {
      "cell_type": "markdown",
      "source": [
        "Creacion de funciones lambda $f(x) = x^2$"
      ],
      "metadata": {
        "id": "jZs5T8WmZfcC"
      }
    },
    {
      "cell_type": "code",
      "source": [
        "f = lambda x: x**2\n",
        "print( f(10) )"
      ],
      "metadata": {
        "colab": {
          "base_uri": "https://localhost:8080/"
        },
        "id": "C_IgkjzdZifJ",
        "outputId": "d7b1d52b-8b07-4103-aaef-9b823a1c1e11"
      },
      "execution_count": null,
      "outputs": [
        {
          "output_type": "stream",
          "name": "stdout",
          "text": [
            "100\n"
          ]
        }
      ]
    }
  ]
}